{
 "cells": [
  {
   "cell_type": "markdown",
   "id": "8ea0a785",
   "metadata": {},
   "source": [
    "# ảnh sau lọc"
   ]
  },
  {
   "cell_type": "code",
   "execution_count": null,
   "id": "e9bf9313",
   "metadata": {},
   "outputs": [],
   "source": [
    "import numpy as np\n",
    "import matplotlib.pyplot as plt\n",
    "from PIL import Image\n",
    "\n",
    "# 1 doc anh goc\n",
    "img = Image.open('C:\\ImageProcessing\\Doan-xulyanh\\img\\pumpkin.png').convert(\"L\")\n",
    "f = np.array(img)\n",
    "P, Q = f.shape\n",
    "\n",
    "# 2 tao bo loc thong cao Butterworth\n",
    "D0 = 30     # tan so cat\n",
    "n = 2       # cap cua bo loc\n",
    "\n",
    "h = np.zeros((P, Q))\n",
    "for i in range(P):\n",
    "    for j in range(Q):\n",
    "        D = np.sqrt((i - P/2)**2 + (j - Q/2)**2)\n",
    "        if D == 0:\n",
    "            h[i, j] = 0\n",
    "        else:\n",
    "            h[i, j] = 1 / (1 + (D0 / D)**(2 * n))\n",
    "\n",
    "# dich tam bo loc ve giua\n",
    "H = np.fft.fftshift(h)\n",
    "\n",
    "# 3 bien doi Fourier anh va ap bo loc\n",
    "F = np.fft.fft2(f)\n",
    "F_shift = np.fft.fftshift(F)\n",
    "G = H * F_shift\n",
    "\n",
    "# 4 bien doi nguoc de lay anh sau loc\n",
    "G_ishift = np.fft.ifftshift(G)\n",
    "filtered_img = np.abs(np.fft.ifft2(G_ishift))\n",
    "\n",
    "# 5 hien thi ket qua\n",
    "plt.figure(figsize=(10, 6))\n",
    "\n",
    "# bo loc trong mien khong gian\n",
    "plt.subplot(1, 3, 1)\n",
    "plt.imshow(h, cmap='gray')\n",
    "plt.title(\"bo loc Butterworth trong mien khong gian\")\n",
    "plt.axis('off')\n",
    "\n",
    "# bo loc trong mien tan so\n",
    "plt.subplot(1, 3, 2)\n",
    "plt.imshow(H, cmap='gray')\n",
    "plt.title(\"bo loc Butterworth trong mien tan so\")\n",
    "plt.axis('off')\n",
    "\n",
    "# anh sau khi loc\n",
    "plt.subplot(1, 3, 3)\n",
    "plt.imshow(filtered_img, cmap='gray')\n",
    "plt.title(\"anh sau khi loc Butterworth\")\n",
    "plt.axis('off')\n",
    "\n",
    "plt.tight_layout()\n",
    "plt.show()\n"
   ]
  }
 ],
 "metadata": {
  "language_info": {
   "name": "python"
  }
 },
 "nbformat": 4,
 "nbformat_minor": 5
}
